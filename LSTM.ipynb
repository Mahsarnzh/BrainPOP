{
 "cells": [
  {
   "cell_type": "code",
   "execution_count": 1,
   "id": "e3ba0664-6159-4000-a4b3-21543f4bb91c",
   "metadata": {
    "colab": {
     "base_uri": "https://localhost:8080/",
     "height": 472
    },
    "id": "e3ba0664-6159-4000-a4b3-21543f4bb91c",
    "outputId": "0dc63222-6957-4d8b-86cb-cc594ef361ce"
   },
   "outputs": [
    {
     "data": {
      "image/png": "[encoded data removed]",
      "text/plain": [
       "<Figure size 640x480 with 1 Axes>"
      ]
     },
     "metadata": {},
     "output_type": "display_data"
    }
   ],
   "source": [
    "import matplotlib.pyplot as plt\n",
    "import pandas as pd\n",
    "\n",
    "train_data = pd.read_csv('train.csv')\n",
    "test_data = pd.read_csv('test.csv')\n",
    "\n",
    "# Combine train and test datasets for tokenization\n",
    "combined_data = pd.concat([train_data, test_data])\n",
    "df = combined_data\n",
    "# Count the occurrences of each label\n",
    "label_counts = df['label'].value_counts()\n",
    "\n",
    "# Plot the bar chart\n",
    "plt.bar(label_counts.index, label_counts.values, color=['blue', 'orange'])\n",
    "plt.xlabel('Label')\n",
    "plt.ylabel('Count')\n",
    "plt.title('Number of Entries for Each Label')\n",
    "plt.xticks(label_counts.index, ['Label 0', 'Label 1'])\n",
    "\n",
    "# Display the plot\n",
    "plt.show()"
   ]
  },
  {
   "cell_type": "code",
   "execution_count": 2,
   "id": "1204b767-1e60-4c12-8ee3-23c23db4652c",
   "metadata": {
    "colab": {
     "base_uri": "https://localhost:8080/"
    },
    "id": "1204b767-1e60-4c12-8ee3-23c23db4652c",
    "outputId": "6a3423ac-8e72-4a9d-9045-f2e82d05732f"
   },
   "outputs": [
    {
     "data": {
      "text/plain": [
       "1    6388\n",
       "0    2690\n",
       "Name: label, dtype: int64"
      ]
     },
     "execution_count": 2,
     "metadata": {},
     "output_type": "execute_result"
    }
   ],
   "source": [
    "df['label'].value_counts()"
   ]
  },
  {
   "cell_type": "markdown",
   "id": "00dc7e6f-2ac4-47f2-b807-d7cc63dd0632",
   "metadata": {
    "id": "00dc7e6f-2ac4-47f2-b807-d7cc63dd0632"
   },
   "source": [
    "### Using scaled Data input for LSTM model using MinMaxScaler"
   ]
  },
  {
   "cell_type": "code",
   "execution_count": 3,
   "id": "74dad173-70cb-45fa-95c1-cdf31d590da4",
   "metadata": {
    "colab": {
     "base_uri": "https://localhost:8080/"
    },
    "id": "74dad173-70cb-45fa-95c1-cdf31d590da4",
    "outputId": "291967a0-aa6b-4b1c-e816-824266497a42"
   },
   "outputs": [
    {
     "name": "stdout",
     "output_type": "stream",
     "text": [
      "Epoch 1/5\n",
      "268/268 - 14s - loss: 0.6190 - accuracy: 0.7035 - 14s/epoch - 52ms/step\n",
      "Epoch 2/5\n",
      "268/268 - 10s - loss: 0.6135 - accuracy: 0.7044 - 10s/epoch - 38ms/step\n",
      "Epoch 3/5\n",
      "268/268 - 10s - loss: 0.6108 - accuracy: 0.7044 - 10s/epoch - 38ms/step\n",
      "Epoch 4/5\n",
      "268/268 - 9s - loss: 0.6132 - accuracy: 0.7044 - 9s/epoch - 35ms/step\n",
      "Epoch 5/5\n",
      "268/268 - 10s - loss: 0.6124 - accuracy: 0.7044 - 10s/epoch - 38ms/step\n"
     ]
    },
    {
     "data": {
      "text/plain": [
       "<keras.src.callbacks.History at 0x7d3c3bf03370>"
      ]
     },
     "execution_count": 3,
     "metadata": {},
     "output_type": "execute_result"
    }
   ],
   "source": [
    "import pandas as pd\n",
    "from sklearn.preprocessing import MinMaxScaler\n",
    "from tensorflow.keras.preprocessing.sequence import pad_sequences\n",
    "from tensorflow.keras.models import Sequential\n",
    "from tensorflow.keras.layers import Embedding, LSTM, Dense, Dropout\n",
    "from tensorflow.keras.preprocessing.text import Tokenizer\n",
    "\n",
    "# Load the train and test datasets\n",
    "train_data = pd.read_csv('train.csv')\n",
    "test_data = pd.read_csv('test.csv')\n",
    "\n",
    "# Combine train and test datasets for tokenization\n",
    "combined_data = pd.concat([train_data, test_data])\n",
    "\n",
    "# Tokenize and pad the sentences\n",
    "tokenizer = Tokenizer()\n",
    "tokenizer.fit_on_texts(combined_data['text'])\n",
    "\n",
    "# Tokenize and pad the train sentences\n",
    "train_sequences = tokenizer.texts_to_sequences(train_data['text'])\n",
    "train_padded_sequences = pad_sequences(train_sequences)\n",
    "\n",
    "# Tokenize and pad the test sentences\n",
    "test_sequences = tokenizer.texts_to_sequences(test_data['text'])\n",
    "test_padded_sequences = pad_sequences(test_sequences, maxlen=train_padded_sequences.shape[1])\n",
    "\n",
    "# Ensure the vocabulary size is the same for both train and test sets\n",
    "vocab_size = len(tokenizer.word_index) + 1\n",
    "\n",
    "# Use MinMaxScaler to scale the sequences\n",
    "scaler = MinMaxScaler()\n",
    "\n",
    "# Combine sequences for scaling\n",
    "combined_sequences = tokenizer.texts_to_sequences(combined_data['text'])\n",
    "combined_padded_sequences = pad_sequences(combined_sequences)\n",
    "combined_sequences_scaled = scaler.fit_transform(combined_padded_sequences)\n",
    "\n",
    "# Apply the same scaling to train and test sequences\n",
    "train_sequences_scaled = combined_sequences_scaled[:len(train_data)]\n",
    "test_sequences_scaled = combined_sequences_scaled[len(train_data):]\n",
    "\n",
    "# Pad the scaled sequences\n",
    "train_padded_sequences_scaled = pad_sequences(train_sequences_scaled)\n",
    "test_padded_sequences_scaled = pad_sequences(test_sequences_scaled, maxlen=train_padded_sequences_scaled.shape[1])\n",
    "\n",
    "# Define the neural network\n",
    "scaled_model = Sequential([\n",
    "    Embedding(input_dim=vocab_size, output_dim=64, input_length=train_padded_sequences_scaled.shape[1]),\n",
    "    LSTM(64, return_sequences=True),\n",
    "    LSTM(32),\n",
    "    Dense(32, activation='relu'),\n",
    "    Dropout(0.5),\n",
    "    Dense(1, activation='sigmoid')\n",
    "])\n",
    "\n",
    "scaled_model.compile(optimizer='adam', loss='binary_crossentropy', metrics=['accuracy'])\n",
    "\n",
    "# Train the scaled_model\n",
    "scaled_model.fit(train_padded_sequences_scaled, train_data['label'], epochs=5, verbose=2)"
   ]
  },
  {
   "cell_type": "code",
   "execution_count": 4,
   "id": "4ab96842-f5a0-4dfa-a0b1-e5c036daea98",
   "metadata": {
    "colab": {
     "base_uri": "https://localhost:8080/"
    },
    "id": "4ab96842-f5a0-4dfa-a0b1-e5c036daea98",
    "outputId": "ed228191-0da3-483e-c802-f3a0999f2d8b"
   },
   "outputs": [
    {
     "name": "stdout",
     "output_type": "stream",
     "text": [
      "1/1 [==============================] - 1s 994ms/step\n",
      "The likelihood that the sentence is grammatically correct: 0.3241499066352844\n"
     ]
    }
   ],
   "source": [
    "from tensorflow.keras.preprocessing.sequence import pad_sequences\n",
    "\n",
    "class Grader:\n",
    "    def __init__(self, tokenizer, model, train_padded_sequences):\n",
    "        self.tokenizer = tokenizer\n",
    "        self.model = model\n",
    "        self.train_padded_sequences = train_padded_sequences\n",
    "\n",
    "    def evaluate_sentence(self, sentence):\n",
    "        input_sequence = pad_sequences(self.tokenizer.texts_to_sequences([sentence]), maxlen=self.train_padded_sequences.shape[1])\n",
    "        output_likelihood = self.model.predict(input_sequence)[0, 0]\n",
    "        grammatical_likelihood = 1 - output_likelihood\n",
    "        return grammatical_likelihood\n",
    "\n",
    "grader = Grader(tokenizer, scaled_model, train_padded_sequences)\n",
    "\n",
    "sentence_to_evaluate = \"he don't come here no more.\"\n",
    "likelihood = grader.evaluate_sentence(sentence_to_evaluate)\n",
    "\n",
    "print(f\"The likelihood that the sentence is grammatically correct: {likelihood}\")\n"
   ]
  },
  {
   "cell_type": "code",
   "execution_count": 5,
   "id": "3d479e50-e814-4ea7-be9c-71a5e528252f",
   "metadata": {
    "colab": {
     "base_uri": "https://localhost:8080/"
    },
    "id": "3d479e50-e814-4ea7-be9c-71a5e528252f",
    "outputId": "3cd0ae5f-6d9f-4906-ef63-e87edd5befcb"
   },
   "outputs": [
    {
     "name": "stdout",
     "output_type": "stream",
     "text": [
      "17/17 [==============================] - 0s 10ms/step\n",
      "Precision: 0.6925996204933587\n",
      "Recall: 1.0\n"
     ]
    }
   ],
   "source": [
    "from sklearn.metrics import precision_score, recall_score\n",
    "\n",
    "predictions = scaled_model.predict(test_padded_sequences)\n",
    "binary_predictions = (predictions > 0.5).astype(int)\n",
    "\n",
    "# Calculate precision and recall\n",
    "precision = precision_score(test_data['label'], binary_predictions)\n",
    "recall = recall_score(test_data['label'], binary_predictions)\n",
    "\n",
    "print(f'Precision: {precision}')\n",
    "print(f'Recall: {recall}')"
   ]
  },
  {
   "cell_type": "markdown",
   "id": "e0ea9053-20a1-4be2-9886-5f98dce2609a",
   "metadata": {
    "id": "e0ea9053-20a1-4be2-9886-5f98dce2609a"
   },
   "source": [
    "### Normal LSTM without any modifications to the input"
   ]
  },
  {
   "cell_type": "code",
   "execution_count": 6,
   "id": "44148465-9c60-403c-8a1d-c552089a615a",
   "metadata": {
    "colab": {
     "base_uri": "https://localhost:8080/"
    },
    "id": "44148465-9c60-403c-8a1d-c552089a615a",
    "outputId": "be02a402-8a3c-4f41-e52c-ccdb823c3be3"
   },
   "outputs": [
    {
     "name": "stdout",
     "output_type": "stream",
     "text": [
      "Epoch 1/20\n",
      "268/268 - 14s - loss: 0.6181 - accuracy: 0.7033 - 14s/epoch - 52ms/step\n",
      "Epoch 2/20\n",
      "268/268 - 10s - loss: 0.5895 - accuracy: 0.7099 - 10s/epoch - 38ms/step\n",
      "Epoch 3/20\n",
      "268/268 - 10s - loss: 0.5152 - accuracy: 0.7454 - 10s/epoch - 38ms/step\n",
      "Epoch 4/20\n",
      "268/268 - 10s - loss: 0.4527 - accuracy: 0.7750 - 10s/epoch - 38ms/step\n",
      "Epoch 5/20\n",
      "268/268 - 10s - loss: 0.3983 - accuracy: 0.8025 - 10s/epoch - 38ms/step\n",
      "Epoch 6/20\n",
      "268/268 - 11s - loss: 0.3556 - accuracy: 0.8213 - 11s/epoch - 40ms/step\n",
      "Epoch 7/20\n",
      "268/268 - 9s - loss: 0.3191 - accuracy: 0.8364 - 9s/epoch - 35ms/step\n",
      "Epoch 8/20\n",
      "268/268 - 10s - loss: 0.2894 - accuracy: 0.8496 - 10s/epoch - 38ms/step\n",
      "Epoch 9/20\n",
      "268/268 - 10s - loss: 0.2652 - accuracy: 0.8564 - 10s/epoch - 38ms/step\n",
      "Epoch 10/20\n",
      "268/268 - 10s - loss: 0.2385 - accuracy: 0.8660 - 10s/epoch - 39ms/step\n",
      "Epoch 11/20\n",
      "268/268 - 10s - loss: 0.2280 - accuracy: 0.8740 - 10s/epoch - 38ms/step\n",
      "Epoch 12/20\n",
      "268/268 - 10s - loss: 0.2126 - accuracy: 0.8827 - 10s/epoch - 35ms/step\n",
      "Epoch 13/20\n",
      "268/268 - 10s - loss: 0.2060 - accuracy: 0.8840 - 10s/epoch - 37ms/step\n",
      "Epoch 14/20\n",
      "268/268 - 10s - loss: 0.1866 - accuracy: 0.8929 - 10s/epoch - 38ms/step\n",
      "Epoch 15/20\n",
      "268/268 - 10s - loss: 0.1791 - accuracy: 0.8963 - 10s/epoch - 38ms/step\n",
      "Epoch 16/20\n",
      "268/268 - 10s - loss: 0.1721 - accuracy: 0.8990 - 10s/epoch - 38ms/step\n",
      "Epoch 17/20\n",
      "268/268 - 10s - loss: 0.1719 - accuracy: 0.8993 - 10s/epoch - 38ms/step\n",
      "Epoch 18/20\n",
      "268/268 - 9s - loss: 0.1697 - accuracy: 0.8970 - 9s/epoch - 35ms/step\n",
      "Epoch 19/20\n",
      "268/268 - 10s - loss: 0.1682 - accuracy: 0.9042 - 10s/epoch - 38ms/step\n",
      "Epoch 20/20\n",
      "268/268 - 10s - loss: 0.1615 - accuracy: 0.9034 - 10s/epoch - 38ms/step\n",
      "17/17 [==============================] - 1s 11ms/step - loss: 2.7178 - accuracy: 0.6300\n",
      "Test Accuracy: 0.6299810409545898\n"
     ]
    }
   ],
   "source": [
    "import tensorflow as tf\n",
    "\n",
    "# Define the neural network\n",
    "bc_model = Sequential([\n",
    "    Embedding(input_dim=len(tokenizer.word_index) + 1, output_dim=64, input_length=train_padded_sequences.shape[1]),\n",
    "    LSTM(64, return_sequences=True),\n",
    "    LSTM(32),\n",
    "    Dense(32, activation='relu'),\n",
    "    Dropout(0.5),\n",
    "    Dense(1, activation='sigmoid')\n",
    "])\n",
    "\n",
    "bc_model.compile(optimizer='adam', loss='binary_crossentropy', metrics=['accuracy'])\n",
    "\n",
    "# Train the bc_model\n",
    "bc_model.fit(train_padded_sequences, train_data['label'], epochs=20, verbose=2)\n",
    "\n",
    "# Evaluate the bc_model on the test dataset\n",
    "test_loss, test_accuracy = bc_model.evaluate(test_padded_sequences, test_data['label'])\n",
    "print(f'Test Accuracy: {test_accuracy}')\n"
   ]
  },
  {
   "cell_type": "code",
   "execution_count": 7,
   "id": "a2896000-eb07-4f67-9b24-2b9cba3096ce",
   "metadata": {
    "colab": {
     "base_uri": "https://localhost:8080/"
    },
    "id": "a2896000-eb07-4f67-9b24-2b9cba3096ce",
    "outputId": "e83a9007-41a4-4c72-84f8-27364bd32f46"
   },
   "outputs": [
    {
     "name": "stdout",
     "output_type": "stream",
     "text": [
      "1/1 [==============================] - 1s 727ms/step\n",
      "The likelihood that the sentence is grammatically correct: 1.0907649993896484e-05\n"
     ]
    }
   ],
   "source": [
    "# Evaluate the model\n",
    "sentence_to_evaluate = \"he don't come here no more.\"\n",
    "input_sequence = pad_sequences(tokenizer.texts_to_sequences([sentence_to_evaluate]), maxlen=train_padded_sequences.shape[1])\n",
    "\n",
    "output_likelihood = bc_model.predict(input_sequence)[0, 0]\n",
    "print(f\"The likelihood that the sentence is grammatically correct: {1- output_likelihood}\")"
   ]
  },
  {
   "cell_type": "code",
   "execution_count": 8,
   "id": "69426168-d81b-4aae-ac0a-76a40f1fe8eb",
   "metadata": {
    "colab": {
     "base_uri": "https://localhost:8080/"
    },
    "id": "69426168-d81b-4aae-ac0a-76a40f1fe8eb",
    "outputId": "da46d200-9485-4855-d718-dc7683c0b582"
   },
   "outputs": [
    {
     "name": "stdout",
     "output_type": "stream",
     "text": [
      "1/1 [==============================] - 0s 24ms/step\n",
      "The likelihood that the sentence is grammatically correct: 1.0907649993896484e-05\n"
     ]
    }
   ],
   "source": [
    "grader = Grader(tokenizer, bc_model, train_padded_sequences)\n",
    "\n",
    "sentence_to_evaluate = \"he don't come here no more.\"\n",
    "likelihood = grader.evaluate_sentence(sentence_to_evaluate)\n",
    "\n",
    "print(f\"The likelihood that the sentence is grammatically correct: {likelihood}\")\n"
   ]
  },
  {
   "cell_type": "code",
   "execution_count": 9,
   "id": "ca77ff1c-d0ea-4b5b-8f96-5e65f293a8b7",
   "metadata": {
    "colab": {
     "base_uri": "https://localhost:8080/"
    },
    "id": "ca77ff1c-d0ea-4b5b-8f96-5e65f293a8b7",
    "outputId": "d5923ce8-4399-49a6-9ae3-56a0da4cc6f2"
   },
   "outputs": [
    {
     "name": "stdout",
     "output_type": "stream",
     "text": [
      "17/17 [==============================] - 0s 11ms/step\n",
      "Precision: 0.7146464646464646\n",
      "Recall: 0.7753424657534247\n"
     ]
    }
   ],
   "source": [
    "from sklearn.metrics import precision_score, recall_score\n",
    "\n",
    "predictions = bc_model.predict(test_padded_sequences)\n",
    "binary_predictions = (predictions > 0.5).astype(int)\n",
    "\n",
    "# Calculate precision and recall\n",
    "precision = precision_score(test_data['label'], binary_predictions)\n",
    "recall = recall_score(test_data['label'], binary_predictions)\n",
    "\n",
    "print(f'Precision: {precision}')\n",
    "print(f'Recall: {recall}')"
   ]
  },
  {
   "cell_type": "code",
   "execution_count": 10,
   "id": "f508d40f-67f1-42bf-a5c3-6eb6a9fc6214",
   "metadata": {
    "colab": {
     "base_uri": "https://localhost:8080/"
    },
    "id": "f508d40f-67f1-42bf-a5c3-6eb6a9fc6214",
    "outputId": "437a31e5-c955-43c0-b9ab-558f4873ca67"
   },
   "outputs": [
    {
     "name": "stdout",
     "output_type": "stream",
     "text": [
      "17/17 [==============================] - 0s 10ms/step - loss: 0.6258 - accuracy: 0.6850\n",
      "Test Accuracy: 0.6850094795227051\n"
     ]
    }
   ],
   "source": [
    "# Evaluate the model on the test dataset\n",
    "test_loss, test_accuracy = bc_model.evaluate(test_padded_sequences_scaled, test_data['label'])\n",
    "print(f'Test Accuracy: {test_accuracy}')"
   ]
  },
  {
   "cell_type": "markdown",
   "id": "d7fd81b6-84e4-471c-b297-55a5b86c6a15",
   "metadata": {
    "id": "d7fd81b6-84e4-471c-b297-55a5b86c6a15"
   },
   "source": [
    "### Using SMOTE to over sample the minority class which is label 0"
   ]
  },
  {
   "cell_type": "code",
   "execution_count": 11,
   "id": "950ab9f7-6b0b-4aed-9265-bd5e2f453fb6",
   "metadata": {
    "colab": {
     "base_uri": "https://localhost:8080/"
    },
    "id": "950ab9f7-6b0b-4aed-9265-bd5e2f453fb6",
    "outputId": "3910828d-48b8-42c5-aead-c7f71e8d464b"
   },
   "outputs": [
    {
     "name": "stdout",
     "output_type": "stream",
     "text": [
      "Epoch 1/5\n",
      "377/377 - 18s - loss: 0.2502 - accuracy: 0.4979 - 18s/epoch - 49ms/step\n",
      "Epoch 2/5\n",
      "377/377 - 14s - loss: 0.2501 - accuracy: 0.4936 - 14s/epoch - 37ms/step\n",
      "Epoch 3/5\n",
      "377/377 - 14s - loss: 0.2500 - accuracy: 0.4988 - 14s/epoch - 37ms/step\n",
      "Epoch 4/5\n",
      "377/377 - 14s - loss: 0.2500 - accuracy: 0.4866 - 14s/epoch - 37ms/step\n",
      "Epoch 5/5\n",
      "377/377 - 32s - loss: 0.2500 - accuracy: 0.4987 - 32s/epoch - 85ms/step\n"
     ]
    },
    {
     "data": {
      "text/plain": [
       "<keras.src.callbacks.History at 0x7d3c379925c0>"
      ]
     },
     "execution_count": 11,
     "metadata": {},
     "output_type": "execute_result"
    }
   ],
   "source": [
    "from imblearn.over_sampling import SMOTE\n",
    "from sklearn.model_selection import train_test_split\n",
    "\n",
    "# Ensure the vocabulary size is the same for both train and test sets\n",
    "vocab_size = len(tokenizer.word_index) + 1\n",
    "\n",
    "# Use MinMaxScaler to scale the sequences\n",
    "scaler = MinMaxScaler()\n",
    "\n",
    "# Apply the same scaling to train and test sequences separately\n",
    "train_sequences_scaled = scaler.fit_transform(train_padded_sequences)\n",
    "test_sequences_scaled = scaler.transform(test_padded_sequences)\n",
    "\n",
    "# Apply SMOTE to over-sample the minority class on the training data\n",
    "oversampler = SMOTE(random_state=42)\n",
    "X_resampled, y_resampled = oversampler.fit_resample(train_sequences_scaled, train_data['label'])\n",
    "\n",
    "# Define the neural network\n",
    "SMOTE_model = Sequential([\n",
    "    Embedding(input_dim=vocab_size, output_dim=64, input_length=X_resampled.shape[1]),\n",
    "    LSTM(64, return_sequences=True),\n",
    "    LSTM(32),\n",
    "    Dense(32, activation='relu'),\n",
    "    Dropout(0.5),\n",
    "    Dense(1, activation='sigmoid')\n",
    "])\n",
    "\n",
    "SMOTE_model.compile(optimizer='adam', loss='mse', metrics=['accuracy'])\n",
    "\n",
    "# Train the SMOTE_model\n",
    "SMOTE_model.fit(X_resampled, y_resampled, epochs=5, verbose=2)"
   ]
  },
  {
   "cell_type": "code",
   "execution_count": 12,
   "id": "2568d4ba-1a96-4fdb-a030-0c76e1b2647d",
   "metadata": {
    "colab": {
     "base_uri": "https://localhost:8080/"
    },
    "id": "2568d4ba-1a96-4fdb-a030-0c76e1b2647d",
    "outputId": "22ae372c-aed5-4b0d-8217-1bc370144bf6"
   },
   "outputs": [
    {
     "name": "stdout",
     "output_type": "stream",
     "text": [
      "1/1 [==============================] - 1s 737ms/step\n",
      "The likelihood that the sentence is grammatically correct: 0.5003257393836975\n"
     ]
    }
   ],
   "source": [
    "grader = Grader(tokenizer, SMOTE_model, train_padded_sequences)\n",
    "\n",
    "sentence_to_evaluate = \"he don't come here no more.\"\n",
    "likelihood = grader.evaluate_sentence(sentence_to_evaluate)\n",
    "\n",
    "print(f\"The likelihood that the sentence is grammatically correct: {likelihood}\")\n"
   ]
  },
  {
   "cell_type": "code",
   "execution_count": 13,
   "id": "ff2c2240-877b-44cc-b8fc-396c4b9adb71",
   "metadata": {
    "colab": {
     "base_uri": "https://localhost:8080/"
    },
    "id": "ff2c2240-877b-44cc-b8fc-396c4b9adb71",
    "outputId": "ca21224e-1f2c-413b-98a1-16503914c469"
   },
   "outputs": [
    {
     "name": "stdout",
     "output_type": "stream",
     "text": [
      "17/17 [==============================] - 0s 11ms/step\n",
      "Precision: 0.0\n",
      "Recall: 0.0\n"
     ]
    },
    {
     "name": "stderr",
     "output_type": "stream",
     "text": [
      "/usr/local/lib/python3.10/dist-packages/sklearn/metrics/_classification.py:1344: UndefinedMetricWarning: Precision is ill-defined and being set to 0.0 due to no predicted samples. Use `zero_division` parameter to control this behavior.\n",
      "  _warn_prf(average, modifier, msg_start, len(result))\n"
     ]
    }
   ],
   "source": [
    "from sklearn.metrics import precision_score, recall_score\n",
    "\n",
    "predictions = SMOTE_model.predict(test_padded_sequences)\n",
    "binary_predictions = (predictions > 0.5).astype(int)\n",
    "\n",
    "# Calculate precision and recall\n",
    "precision = precision_score(test_data['label'], binary_predictions)\n",
    "recall = recall_score(test_data['label'], binary_predictions)\n",
    "\n",
    "print(f'Precision: {precision}')\n",
    "print(f'Recall: {recall}')"
   ]
  },
  {
   "cell_type": "markdown",
   "id": "53990001-5697-41c1-ab97-ae7898e4a095",
   "metadata": {
    "id": "53990001-5697-41c1-ab97-ae7898e4a095"
   },
   "source": [
    "### No changes to the input but using MSE for loss value calculation instead of binary_crossentropy"
   ]
  },
  {
   "cell_type": "code",
   "execution_count": 14,
   "id": "24e78630-0e94-4384-9b60-27c75764c98f",
   "metadata": {
    "colab": {
     "base_uri": "https://localhost:8080/"
    },
    "id": "24e78630-0e94-4384-9b60-27c75764c98f",
    "outputId": "ad2337f2-76f9-42d1-92df-835f44f33de3"
   },
   "outputs": [
    {
     "name": "stdout",
     "output_type": "stream",
     "text": [
      "Epoch 1/20\n",
      "268/268 - 21s - loss: 0.2137 - accuracy: 0.7041 - 21s/epoch - 78ms/step\n",
      "Epoch 2/20\n",
      "268/268 - 11s - loss: 0.1965 - accuracy: 0.7124 - 11s/epoch - 40ms/step\n",
      "Epoch 3/20\n",
      "268/268 - 16s - loss: 0.1668 - accuracy: 0.7531 - 16s/epoch - 58ms/step\n",
      "Epoch 4/20\n",
      "268/268 - 10s - loss: 0.1445 - accuracy: 0.7889 - 10s/epoch - 37ms/step\n",
      "Epoch 5/20\n",
      "268/268 - 10s - loss: 0.1298 - accuracy: 0.8158 - 10s/epoch - 39ms/step\n",
      "Epoch 6/20\n",
      "268/268 - 10s - loss: 0.1168 - accuracy: 0.8381 - 10s/epoch - 39ms/step\n",
      "Epoch 7/20\n",
      "268/268 - 10s - loss: 0.1079 - accuracy: 0.8498 - 10s/epoch - 39ms/step\n",
      "Epoch 8/20\n",
      "268/268 - 12s - loss: 0.0986 - accuracy: 0.8583 - 12s/epoch - 46ms/step\n",
      "Epoch 9/20\n",
      "268/268 - 18s - loss: 0.0899 - accuracy: 0.8688 - 18s/epoch - 67ms/step\n",
      "Epoch 10/20\n",
      "268/268 - 14s - loss: 0.0846 - accuracy: 0.8759 - 14s/epoch - 53ms/step\n",
      "Epoch 11/20\n",
      "268/268 - 10s - loss: 0.0769 - accuracy: 0.8861 - 10s/epoch - 37ms/step\n",
      "Epoch 12/20\n",
      "268/268 - 14s - loss: 0.0733 - accuracy: 0.8905 - 14s/epoch - 51ms/step\n",
      "Epoch 13/20\n",
      "268/268 - 10s - loss: 0.0711 - accuracy: 0.8910 - 10s/epoch - 38ms/step\n",
      "Epoch 14/20\n",
      "268/268 - 13s - loss: 0.0670 - accuracy: 0.8976 - 13s/epoch - 49ms/step\n",
      "Epoch 15/20\n",
      "268/268 - 14s - loss: 0.0643 - accuracy: 0.9004 - 14s/epoch - 53ms/step\n",
      "Epoch 16/20\n",
      "268/268 - 10s - loss: 0.0628 - accuracy: 0.9026 - 10s/epoch - 39ms/step\n",
      "Epoch 17/20\n",
      "268/268 - 10s - loss: 0.0607 - accuracy: 0.9076 - 10s/epoch - 38ms/step\n",
      "Epoch 18/20\n",
      "268/268 - 10s - loss: 0.0576 - accuracy: 0.9094 - 10s/epoch - 39ms/step\n",
      "Epoch 19/20\n",
      "268/268 - 10s - loss: 0.0554 - accuracy: 0.9140 - 10s/epoch - 38ms/step\n",
      "Epoch 20/20\n",
      "268/268 - 10s - loss: 0.0542 - accuracy: 0.9153 - 10s/epoch - 38ms/step\n",
      "17/17 [==============================] - 3s 17ms/step - loss: 0.3367 - accuracy: 0.6224\n",
      "Test Accuracy: 0.622390866279602\n"
     ]
    }
   ],
   "source": [
    "import tensorflow as tf\n",
    "\n",
    "# Define the neural network\n",
    "MSE_model = Sequential([\n",
    "    Embedding(input_dim=len(tokenizer.word_index) + 1, output_dim=64, input_length=train_padded_sequences.shape[1]),\n",
    "    LSTM(64, return_sequences=True),\n",
    "    LSTM(32),\n",
    "    Dense(32, activation='relu'),\n",
    "    Dropout(0.5),\n",
    "    Dense(1, activation='sigmoid')\n",
    "])\n",
    "\n",
    "MSE_model.compile(optimizer='adam', loss='mse', metrics=['accuracy'])\n",
    "\n",
    "# Train the MSE_model\n",
    "MSE_model.fit(train_padded_sequences, train_data['label'], epochs=20, verbose=2)\n",
    "\n",
    "# Evaluate the MSE_model on the test dataset\n",
    "test_loss, test_accuracy = MSE_model.evaluate(test_padded_sequences, test_data['label'])\n",
    "print(f'Test Accuracy: {test_accuracy}')\n"
   ]
  },
  {
   "cell_type": "code",
   "execution_count": 15,
   "id": "87b89d51-a358-4fea-b9f4-86dad78a4516",
   "metadata": {
    "colab": {
     "base_uri": "https://localhost:8080/"
    },
    "id": "87b89d51-a358-4fea-b9f4-86dad78a4516",
    "outputId": "86030359-1c0b-49c2-c5f0-b6573a2487d5"
   },
   "outputs": [
    {
     "name": "stdout",
     "output_type": "stream",
     "text": [
      "1/1 [==============================] - 1s 951ms/step\n",
      "The likelihood that the sentence is grammatically correct: 1.3113021850585938e-06\n"
     ]
    }
   ],
   "source": [
    "grader = Grader(tokenizer, MSE_model, train_padded_sequences)\n",
    "\n",
    "sentence_to_evaluate = \"he don't come here no more.\"\n",
    "likelihood = grader.evaluate_sentence(sentence_to_evaluate)\n",
    "\n",
    "print(f\"The likelihood that the sentence is grammatically correct: {likelihood}\")\n"
   ]
  },
  {
   "cell_type": "code",
   "execution_count": 16,
   "id": "74499bb5-2b80-4fbe-9093-0d1d0b02e797",
   "metadata": {
    "colab": {
     "base_uri": "https://localhost:8080/"
    },
    "id": "74499bb5-2b80-4fbe-9093-0d1d0b02e797",
    "outputId": "cefe844a-89fb-476f-ef81-d04aa6ab80e9"
   },
   "outputs": [
    {
     "name": "stdout",
     "output_type": "stream",
     "text": [
      "17/17 [==============================] - 0s 10ms/step\n",
      "Precision: 0.7064676616915423\n",
      "Recall: 0.7780821917808219\n"
     ]
    }
   ],
   "source": [
    "from sklearn.metrics import precision_score, recall_score\n",
    "\n",
    "predictions = MSE_model.predict(test_padded_sequences)\n",
    "binary_predictions = (predictions > 0.5).astype(int)\n",
    "\n",
    "# Calculate precision and recall\n",
    "precision = precision_score(test_data['label'], binary_predictions)\n",
    "recall = recall_score(test_data['label'], binary_predictions)\n",
    "\n",
    "print(f'Precision: {precision}')\n",
    "print(f'Recall: {recall}')"
   ]
  },
  {
   "cell_type": "markdown",
   "id": "0a4dc2d1-feac-4d0b-ad4b-95ee41afbe99",
   "metadata": {
    "id": "0a4dc2d1-feac-4d0b-ad4b-95ee41afbe99"
   },
   "source": [
    "### Applying Random Over-Sampling to over-sample the minority class (label 0)"
   ]
  },
  {
   "cell_type": "code",
   "execution_count": 17,
   "id": "b00599c5-c597-4bb3-940b-141d51bfa6d9",
   "metadata": {
    "colab": {
     "base_uri": "https://localhost:8080/"
    },
    "id": "b00599c5-c597-4bb3-940b-141d51bfa6d9",
    "outputId": "76b09849-9263-4b33-f18f-4ad9cbfc88f1"
   },
   "outputs": [
    {
     "name": "stdout",
     "output_type": "stream",
     "text": [
      "Epoch 1/5\n",
      "377/377 - 18s - loss: 0.2502 - accuracy: 0.4892 - 18s/epoch - 47ms/step\n",
      "Epoch 2/5\n",
      "377/377 - 14s - loss: 0.2500 - accuracy: 0.4949 - 14s/epoch - 38ms/step\n",
      "Epoch 3/5\n",
      "377/377 - 15s - loss: 0.2500 - accuracy: 0.5017 - 15s/epoch - 40ms/step\n",
      "Epoch 4/5\n",
      "377/377 - 14s - loss: 0.2500 - accuracy: 0.4987 - 14s/epoch - 38ms/step\n",
      "Epoch 5/5\n",
      "377/377 - 14s - loss: 0.2500 - accuracy: 0.4980 - 14s/epoch - 37ms/step\n"
     ]
    },
    {
     "data": {
      "text/plain": [
       "<keras.src.callbacks.History at 0x7d3c4b56a680>"
      ]
     },
     "execution_count": 17,
     "metadata": {},
     "output_type": "execute_result"
    }
   ],
   "source": [
    "from imblearn.over_sampling import RandomOverSampler\n",
    "from sklearn.model_selection import train_test_split\n",
    "\n",
    "# Ensure the vocabulary size is the same for both train and test sets\n",
    "vocab_size = len(tokenizer.word_index) + 1\n",
    "\n",
    "# Use MinMaxScaler to scale the sequences\n",
    "scaler = MinMaxScaler()\n",
    "\n",
    "# Combine sequences for scaling\n",
    "combined_sequences = tokenizer.texts_to_sequences(combined_data['text'])\n",
    "combined_padded_sequences = pad_sequences(combined_sequences)\n",
    "combined_sequences_scaled = scaler.fit_transform(combined_padded_sequences)\n",
    "\n",
    "# Apply the same scaling to train and test sequences\n",
    "train_sequences_scaled = combined_sequences_scaled[:len(train_data)]\n",
    "test_sequences_scaled = combined_sequences_scaled[len(train_data):]\n",
    "\n",
    "# Pad the scaled sequences\n",
    "train_padded_sequences_scaled = pad_sequences(train_sequences_scaled)\n",
    "test_padded_sequences_scaled = pad_sequences(test_sequences_scaled, maxlen=train_padded_sequences_scaled.shape[1])\n",
    "\n",
    "# Apply Random Over-Sampling to over-sample the minority class (label 0)\n",
    "oversampler = RandomOverSampler(sampling_strategy='minority')\n",
    "X_resampled, y_resampled = oversampler.fit_resample(train_padded_sequences_scaled, train_data['label'])\n",
    "\n",
    "# Define the neural network\n",
    "ROS_model = Sequential([\n",
    "    Embedding(input_dim=vocab_size, output_dim=64, input_length=X_resampled.shape[1]),\n",
    "    LSTM(64, return_sequences=True),\n",
    "    LSTM(32),\n",
    "    Dense(32, activation='relu'),\n",
    "    Dropout(0.5),\n",
    "    Dense(1, activation='sigmoid')\n",
    "])\n",
    "\n",
    "ROS_model.compile(optimizer='adam', loss='mse', metrics=['accuracy'])\n",
    "\n",
    "# Train the ROS_model\n",
    "ROS_model.fit(X_resampled, y_resampled, epochs=5, verbose=2)"
   ]
  },
  {
   "cell_type": "code",
   "execution_count": 18,
   "id": "16c34e9c-00cf-4644-9fb1-28189018a5ac",
   "metadata": {
    "colab": {
     "base_uri": "https://localhost:8080/"
    },
    "id": "16c34e9c-00cf-4644-9fb1-28189018a5ac",
    "outputId": "c16f9d96-3f56-4621-989b-347d23a94301"
   },
   "outputs": [
    {
     "name": "stdout",
     "output_type": "stream",
     "text": [
      "1/1 [==============================] - 1s 745ms/step\n",
      "The likelihood that the sentence is grammatically correct: 0.5004397630691528\n"
     ]
    }
   ],
   "source": [
    "grader = Grader(tokenizer, ROS_model, train_padded_sequences)\n",
    "\n",
    "sentence_to_evaluate = \"he don't come here no more.\"\n",
    "likelihood = grader.evaluate_sentence(sentence_to_evaluate)\n",
    "\n",
    "print(f\"The likelihood that the sentence is grammatically correct: {likelihood}\")\n"
   ]
  },
  {
   "cell_type": "code",
   "execution_count": 19,
   "id": "25f53cd5-6f77-4b0d-b1f6-6d699aed689e",
   "metadata": {
    "colab": {
     "base_uri": "https://localhost:8080/"
    },
    "id": "25f53cd5-6f77-4b0d-b1f6-6d699aed689e",
    "outputId": "6a6f1335-8e47-4187-83fc-b18be1704422"
   },
   "outputs": [
    {
     "name": "stdout",
     "output_type": "stream",
     "text": [
      "17/17 [==============================] - 0s 10ms/step\n",
      "Precision: 1.0\n",
      "Recall: 0.0027397260273972603\n"
     ]
    }
   ],
   "source": [
    "from sklearn.metrics import precision_score, recall_score\n",
    "\n",
    "predictions = ROS_model.predict(test_padded_sequences)\n",
    "binary_predictions = (predictions > 0.5).astype(int)\n",
    "\n",
    "# Calculate precision and recall\n",
    "precision = precision_score(test_data['label'], binary_predictions)\n",
    "recall = recall_score(test_data['label'], binary_predictions)\n",
    "\n",
    "print(f'Precision: {precision}')\n",
    "print(f'Recall: {recall}')"
   ]
  },
  {
   "cell_type": "markdown",
   "id": "676afd0c-b24d-4a31-9a4d-38f979627f1c",
   "metadata": {
    "id": "676afd0c-b24d-4a31-9a4d-38f979627f1c"
   },
   "source": [
    "### Applying Random Under-Sampling to under-sample the majority class (label 1)"
   ]
  },
  {
   "cell_type": "code",
   "execution_count": 20,
   "id": "01d33d7d-550b-46cd-8d67-bb0898a2d3ee",
   "metadata": {
    "colab": {
     "base_uri": "https://localhost:8080/"
    },
    "id": "01d33d7d-550b-46cd-8d67-bb0898a2d3ee",
    "outputId": "db500783-3c05-4522-f970-d66cd00261a7"
   },
   "outputs": [
    {
     "name": "stdout",
     "output_type": "stream",
     "text": [
      "Epoch 1/5\n",
      "158/158 - 9s - loss: 0.6940 - accuracy: 0.4968 - 9s/epoch - 56ms/step\n",
      "Epoch 2/5\n",
      "158/158 - 5s - loss: 0.6934 - accuracy: 0.5063 - 5s/epoch - 30ms/step\n",
      "Epoch 3/5\n",
      "158/158 - 6s - loss: 0.6935 - accuracy: 0.5061 - 6s/epoch - 35ms/step\n",
      "Epoch 4/5\n",
      "158/158 - 5s - loss: 0.6933 - accuracy: 0.5059 - 5s/epoch - 30ms/step\n",
      "Epoch 5/5\n",
      "158/158 - 6s - loss: 0.6933 - accuracy: 0.5018 - 6s/epoch - 39ms/step\n"
     ]
    },
    {
     "data": {
      "text/plain": [
       "<keras.src.callbacks.History at 0x7d3c38edc3a0>"
      ]
     },
     "execution_count": 20,
     "metadata": {},
     "output_type": "execute_result"
    }
   ],
   "source": [
    "from imblearn.under_sampling import RandomUnderSampler\n",
    "from sklearn.model_selection import train_test_split\n",
    "\n",
    "\n",
    "# Ensure the vocabulary size is the same for both train and test sets\n",
    "vocab_size = len(tokenizer.word_index) + 1\n",
    "\n",
    "# Use MinMaxScaler to scale the sequences\n",
    "scaler = MinMaxScaler()\n",
    "\n",
    "# Combine sequences for scaling\n",
    "combined_sequences = tokenizer.texts_to_sequences(combined_data['text'])\n",
    "combined_padded_sequences = pad_sequences(combined_sequences)\n",
    "combined_sequences_scaled = scaler.fit_transform(combined_padded_sequences)\n",
    "\n",
    "# Apply the same scaling to train and test sequences\n",
    "train_sequences_scaled = combined_sequences_scaled[:len(train_data)]\n",
    "test_sequences_scaled = combined_sequences_scaled[len(train_data):]\n",
    "\n",
    "# Pad the scaled sequences\n",
    "train_padded_sequences_scaled = pad_sequences(train_sequences_scaled)\n",
    "test_padded_sequences_scaled = pad_sequences(test_sequences_scaled, maxlen=train_padded_sequences_scaled.shape[1])\n",
    "\n",
    "# Apply Random Under-Sampling to under-sample the majority class (label 1)\n",
    "undersampler = RandomUnderSampler(sampling_strategy='majority')\n",
    "X_resampled, y_resampled = undersampler.fit_resample(train_padded_sequences_scaled, train_data['label'])\n",
    "\n",
    "# Define the neural network\n",
    "RUS_model = Sequential([\n",
    "    Embedding(input_dim=vocab_size, output_dim=64, input_length=X_resampled.shape[1]),\n",
    "    LSTM(64, return_sequences=True),\n",
    "    LSTM(32),\n",
    "    Dense(32, activation='relu'),\n",
    "    Dropout(0.5),\n",
    "    Dense(1, activation='sigmoid')\n",
    "])\n",
    "\n",
    "RUS_model.compile(optimizer='adam', loss='binary_crossentropy', metrics=['accuracy'])\n",
    "\n",
    "# Train the RUS_model\n",
    "RUS_model.fit(X_resampled, y_resampled, epochs=5, verbose=2)\n"
   ]
  },
  {
   "cell_type": "code",
   "execution_count": 21,
   "id": "7c62dbf0-f2b6-461f-a5bf-e9b972d44520",
   "metadata": {
    "colab": {
     "base_uri": "https://localhost:8080/"
    },
    "id": "7c62dbf0-f2b6-461f-a5bf-e9b972d44520",
    "outputId": "3082ea71-7b43-4c80-b7ee-4113b8bc8c44"
   },
   "outputs": [
    {
     "name": "stdout",
     "output_type": "stream",
     "text": [
      "1/1 [==============================] - 1s 744ms/step\n",
      "The likelihood that the sentence is grammatically correct: 0.5001298785209656\n"
     ]
    }
   ],
   "source": [
    "grader = Grader(tokenizer, RUS_model, train_padded_sequences)\n",
    "\n",
    "sentence_to_evaluate = \"he don't come here no more.\"\n",
    "likelihood = grader.evaluate_sentence(sentence_to_evaluate)\n",
    "\n",
    "print(f\"The likelihood that the sentence is grammatically correct: {likelihood}\")\n"
   ]
  },
  {
   "cell_type": "code",
   "execution_count": 22,
   "id": "76086c0b-ce25-4d77-bfea-19724946e5ac",
   "metadata": {
    "colab": {
     "base_uri": "https://localhost:8080/"
    },
    "id": "76086c0b-ce25-4d77-bfea-19724946e5ac",
    "outputId": "9002228a-8563-4649-d97b-21202bb1e2ef"
   },
   "outputs": [
    {
     "name": "stdout",
     "output_type": "stream",
     "text": [
      "17/17 [==============================] - 0s 11ms/step\n",
      "Precision: 0.69375\n",
      "Recall: 0.9123287671232877\n"
     ]
    }
   ],
   "source": [
    "from sklearn.metrics import precision_score, recall_score\n",
    "\n",
    "predictions = RUS_model.predict(test_padded_sequences)\n",
    "binary_predictions = (predictions > 0.5).astype(int)\n",
    "\n",
    "# Calculate precision and recall\n",
    "precision = precision_score(test_data['label'], binary_predictions)\n",
    "recall = recall_score(test_data['label'], binary_predictions)\n",
    "\n",
    "print(f'Precision: {precision}')\n",
    "print(f'Recall: {recall}')"
   ]
  },
  {
   "cell_type": "markdown",
   "id": "z7DDFhJd-jNI",
   "metadata": {
    "id": "z7DDFhJd-jNI"
   },
   "source": [
    "# As evident from the results, based on playing around with the grader class the models perform better when the input data is left unscaled, showcasing superior outcomes compared to instances where input data undergoes scaling or balancing. However, based on precision and recall, the output of the scaled data using minmaxscaler showed superior results."
   ]
  },
  {
   "cell_type": "code",
   "execution_count": 33,
   "id": "4DeClxIoL7JA",
   "metadata": {
    "colab": {
     "base_uri": "https://localhost:8080/"
    },
    "id": "4DeClxIoL7JA",
    "outputId": "5f253556-7af0-40e2-d6a9-4a856c0234ab"
   },
   "outputs": [
    {
     "name": "stdout",
     "output_type": "stream",
     "text": [
      "1/1 [==============================] - 0s 33ms/step\n",
      "based on RUS_model the likelihood that the sentence is grammatically correct: 0.5001298785209656\n",
      "1/1 [==============================] - 0s 43ms/step\n",
      "based on ROS_model the likelihood that the sentence is grammatically correct: 0.5004397630691528\n",
      "1/1 [==============================] - 0s 33ms/step\n",
      "based on MSE_model the likelihood that the sentence is grammatically correct: 1.3113021850585938e-06\n",
      "1/1 [==============================] - 0s 36ms/step\n",
      "based on SMOTE_model the likelihood that the sentence is grammatically correct: 0.5003257393836975\n",
      "1/1 [==============================] - 0s 35ms/step\n",
      "based on bc_model the likelihood that the sentence is grammatically correct: 1.0907649993896484e-05\n",
      "1/1 [==============================] - 0s 36ms/step\n",
      "based on scaled_model the likelihood that the sentence is grammatically correct: 0.3241499066352844\n"
     ]
    }
   ],
   "source": [
    "models = {\n",
    "    \"RUS_model\": RUS_model,\n",
    "    \"ROS_model\": ROS_model,\n",
    "    \"MSE_model\": MSE_model,\n",
    "    \"SMOTE_model\": SMOTE_model,\n",
    "    \"bc_model\": bc_model,\n",
    "    \"scaled_model\": scaled_model\n",
    "}\n",
    "\n",
    "sentence_to_evaluate = \"he don't come here no more.\"\n",
    "\n",
    "for model_name, model in models.items():\n",
    "    grader = Grader(tokenizer, model, train_padded_sequences)\n",
    "    likelihood = grader.evaluate_sentence(sentence_to_evaluate)\n",
    "    print(f\"based on {model_name} the likelihood that the sentence is grammatically correct: {likelihood}\")\n"
   ]
  },
  {
   "cell_type": "code",
   "execution_count": 34,
   "id": "bLXw9c3dNWi8",
   "metadata": {
    "colab": {
     "base_uri": "https://localhost:8080/"
    },
    "id": "bLXw9c3dNWi8",
    "outputId": "a38d60ff-8493-4669-94a9-3e6bfef0cce4"
   },
   "outputs": [
    {
     "name": "stdout",
     "output_type": "stream",
     "text": [
      "1/1 [==============================] - 0s 51ms/step\n",
      "based on RUS_model the likelihood that the sentence is grammatically correct: 0.5001730918884277\n",
      "1/1 [==============================] - 0s 38ms/step\n",
      "based on ROS_model the likelihood that the sentence is grammatically correct: 0.5004723072052002\n",
      "1/1 [==============================] - 0s 38ms/step\n",
      "based on MSE_model the likelihood that the sentence is grammatically correct: 0.9999995941060433\n",
      "1/1 [==============================] - 0s 38ms/step\n",
      "based on SMOTE_model the likelihood that the sentence is grammatically correct: 0.5004700720310211\n",
      "1/1 [==============================] - 0s 36ms/step\n",
      "based on bc_model the likelihood that the sentence is grammatically correct: 0.999999981634323\n",
      "1/1 [==============================] - 0s 33ms/step\n",
      "based on scaled_model the likelihood that the sentence is grammatically correct: 0.3241214156150818\n"
     ]
    }
   ],
   "source": [
    "models = {\n",
    "    \"RUS_model\": RUS_model,\n",
    "    \"ROS_model\": ROS_model,\n",
    "    \"MSE_model\": MSE_model,\n",
    "    \"SMOTE_model\": SMOTE_model,\n",
    "    \"bc_model\": bc_model,\n",
    "    \"scaled_model\": scaled_model\n",
    "}\n",
    "\n",
    "sentence_to_evaluate = \"he doesn't come here any more.\"\n",
    "\n",
    "for model_name, model in models.items():\n",
    "    grader = Grader(tokenizer, model, train_padded_sequences)\n",
    "    likelihood = grader.evaluate_sentence(sentence_to_evaluate)\n",
    "    print(f\"based on {model_name} the likelihood that the sentence is grammatically correct: {likelihood}\")\n"
   ]
  },
  {
   "cell_type": "markdown",
   "id": "yd1pUdX7QEsp",
   "metadata": {
    "id": "yd1pUdX7QEsp"
   },
   "source": [
    "# To improve the performance of the LSTM model, I woul consider the following methods:\n",
    "\n",
    "## Experiment with Model Architecture:\n",
    "\n",
    "- I would adjust the number of LSTM layers and units to see if a deeper or wider network improves performance.\n",
    "- I would also try different activation functions in the Dense layers.\n",
    "- Or I would consider using bidirectional LSTM layers to capture information from both past and future sequences.\n",
    "\n",
    "## Embedding Layer Parameters:\n",
    "\n",
    "- I would experiment with different values for the `output_dim` parameter in the Embedding layer.\n",
    "- I would tune the `input_length` parameter based on the average length of the input sequences.\n",
    "\n",
    "## Adjust Dropout Rate:\n",
    "\n",
    "- The dropout rate in the Dropout layer can be adjusted.  I would experiment with different rates to prevent overfitting.\n",
    "\n",
    "## Learning Rate and Optimizer:\n",
    "\n",
    "- Adjusting the learning rate of the optimizer (adam in this case) might be helpfull. A smaller learning rate might help in convergence.\n",
    "- Experiment with different optimizers, such as RMSprop or SGD.\n",
    "\n",
    "\n",
    "## Sequence Padding:\n",
    "\n",
    "- Experimenting with different padding strategies might be helpful. I would try pre-padding or post-padding and observe the impact on model performance.\n",
    "\n",
    "## Regularization Techniques:\n",
    "\n",
    "- I would consider adding L2 regularization to the LSTM and Dense layers to prevent overfitting.\n",
    "- I would experiment with different dropout rates or try other regularization techniques.\n",
    "\n",
    "## Hyperparameter Tuning:\n",
    "\n",
    "- I would use techniques like grid search or random search to find the optimal combination of hyperparameters.\n",
    "\n",
    "\n",
    "## Increase Training Data:\n",
    "\n",
    "- I would try to increase the size of the training dataset to provide the model with more diverse examples.\n",
    "\n",
    "If I had more time I would monitor the model's performance after each modification using mlflow and keep track of changes that positively impact performance. It's often beneficial to iteratively experiment and fine-tune to achieve the best results."
   ]
  }
 ],
 "metadata": {
  "colab": {
   "provenance": []
  },
  "kernelspec": {
   "display_name": "Python 3 (ipykernel)",
   "language": "python",
   "name": "python3"
  },
  "language_info": {
   "codemirror_mode": {
    "name": "ipython",
    "version": 3
   },
   "file_extension": ".py",
   "mimetype": "text/x-python",
   "name": "python",
   "nbconvert_exporter": "python",
   "pygments_lexer": "ipython3",
   "version": "3.11.3"
  }
 },
 "nbformat": 4,
 "nbformat_minor": 5
}
