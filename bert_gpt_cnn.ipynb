{
 "cells": [
  {
   "cell_type": "markdown",
   "id": "4a570c27-3e54-4de8-be3a-ccae76b29621",
   "metadata": {},
   "source": [
    "### Training with Pretrained Models (BERT and GPT-2) and CNN Layers"
   ]
  },
  {
   "cell_type": "code",
   "execution_count": 28,
   "id": "80ac282e-f8b6-411a-a5c9-e5532646a97a",
   "metadata": {},
   "outputs": [
    {
     "name": "stderr",
     "output_type": "stream",
     "text": [
      "Some weights of the PyTorch model were not used when initializing the TF 2.0 model TFBertModel: ['cls.seq_relationship.weight', 'cls.predictions.transform.LayerNorm.weight', 'cls.seq_relationship.bias', 'cls.predictions.transform.dense.weight', 'cls.predictions.transform.LayerNorm.bias', 'cls.predictions.transform.dense.bias', 'cls.predictions.bias']\n",
      "- This IS expected if you are initializing TFBertModel from a PyTorch model trained on another task or with another architecture (e.g. initializing a TFBertForSequenceClassification model from a BertForPreTraining model).\n",
      "- This IS NOT expected if you are initializing TFBertModel from a PyTorch model that you expect to be exactly identical (e.g. initializing a TFBertForSequenceClassification model from a BertForSequenceClassification model).\n",
      "All the weights of TFBertModel were initialized from the PyTorch model.\n",
      "If your task is similar to the task the model of the checkpoint was trained on, you can already use TFBertModel for predictions without further training.\n",
      "All PyTorch model weights were used when initializing TFGPT2Model.\n",
      "\n",
      "All the weights of TFGPT2Model were initialized from the PyTorch model.\n",
      "If your task is similar to the task the model of the checkpoint was trained on, you can already use TFGPT2Model for predictions without further training.\n"
     ]
    },
    {
     "name": "stdout",
     "output_type": "stream",
     "text": [
      "WARNING:tensorflow:Gradients do not exist for variables ['tf_bert_model_2/bert/pooler/dense/kernel:0', 'tf_bert_model_2/bert/pooler/dense/bias:0'] when minimizing the loss. If you're using `model.compile()`, did you forget to provide a `loss` argument?\n"
     ]
    },
    {
     "name": "stderr",
     "output_type": "stream",
     "text": [
      "WARNING:tensorflow:Gradients do not exist for variables ['tf_bert_model_2/bert/pooler/dense/kernel:0', 'tf_bert_model_2/bert/pooler/dense/bias:0'] when minimizing the loss. If you're using `model.compile()`, did you forget to provide a `loss` argument?\n"
     ]
    },
    {
     "name": "stdout",
     "output_type": "stream",
     "text": [
      "WARNING:tensorflow:Gradients do not exist for variables ['tf_bert_model_2/bert/pooler/dense/kernel:0', 'tf_bert_model_2/bert/pooler/dense/bias:0'] when minimizing the loss. If you're using `model.compile()`, did you forget to provide a `loss` argument?\n"
     ]
    },
    {
     "name": "stderr",
     "output_type": "stream",
     "text": [
      "WARNING:tensorflow:Gradients do not exist for variables ['tf_bert_model_2/bert/pooler/dense/kernel:0', 'tf_bert_model_2/bert/pooler/dense/bias:0'] when minimizing the loss. If you're using `model.compile()`, did you forget to provide a `loss` argument?\n"
     ]
    },
    {
     "name": "stdout",
     "output_type": "stream",
     "text": [
      "214/214 [==============================] - 1037s 5s/step - loss: 0.3026 - accuracy: 0.6962 - val_loss: 0.2747 - val_accuracy: 0.7253\n"
     ]
    },
    {
     "data": {
      "text/plain": [
       "<keras.src.callbacks.History at 0x386fb7210>"
      ]
     },
     "execution_count": 28,
     "metadata": {},
     "output_type": "execute_result"
    }
   ],
   "source": [
    "import tensorflow as tf\n",
    "import pandas as pd\n",
    "import numpy as np\n",
    "from transformers import TFBertModel, TFGPT2Model, BertTokenizer, GPT2Tokenizer\n",
    "from tensorflow.keras.p`reprocessing.text import Tokenizer\n",
    "from tensorflow.keras.preprocessing.sequence import pad_sequences\n",
    "from sklearn.model_selection import train_test_split\n",
    "from sklearn.metrics import precision_score, recall_score\n",
    "\n",
    "# Load and preprocess the dataset\n",
    "train_data = pd.read_csv('train.csv')\n",
    "test_data = pd.read_csv('test.csv')\n",
    "train_data = train_data\n",
    "test_data = test_data\n",
    "\n",
    "max_len = 50  # Adjust as needed\n",
    "embedding_dim = 50  # Adjust as needed\n",
    "\n",
    "# Tokenize and pad sequences\n",
    "tokenizer = Tokenizer()\n",
    "tokenizer.fit_on_texts(train_data['text'])\n",
    "X_train = pad_sequences(tokenizer.texts_to_sequences(train_data['text']), maxlen=max_len, padding='post')\n",
    "X_test = pad_sequences(tokenizer.texts_to_sequences(test_data['text']), maxlen=max_len, padding='post')\n",
    "\n",
    "# Labels\n",
    "y_train = train_data['label']\n",
    "y_test = test_data['label']\n",
    "\n",
    "# Step 2: Load BERT and GPT-2 models\n",
    "bert_model = TFBertModel.from_pretrained('bert-base-uncased', trainable=True)\n",
    "gpt2_model = TFGPT2Model.from_pretrained('gpt2', trainable=True) \n",
    "\n",
    "# Step 3: Define the neural net using BERT and GPT-2 models\n",
    "input_ids = tf.keras.layers.Input(shape=(max_len,), dtype=tf.int32)\n",
    "bert_output = bert_model(input_ids)[0]  # Using [1] to get pooled output\n",
    "gpt2_output = gpt2_model(input_ids)[0]  # GPT-2 output\n",
    "\n",
    "# Repeat BERT output for each time step in the sequence\n",
    "concatenated_output = tf.keras.layers.Concatenate(axis=-1)([bert_output, gpt2_output])\n",
    "\n",
    "# Reshape the concatenated output\n",
    "reshaped_output = tf.keras.layers.Reshape((max_len, -1))(concatenated_output)\n",
    "\n",
    "num_filters = 64\n",
    "filter_size = 3\n",
    "cnn_layer = tf.keras.layers.Conv1D(filters=num_filters, kernel_size=filter_size, activation='relu')(reshaped_output)\n",
    "maxpool_layer = tf.keras.layers.GlobalMaxPooling1D()(cnn_layer)\n",
    "\n",
    "# Additional layers\n",
    "output_layer = tf.keras.layers.Dense(1, activation='sigmoid')(maxpool_layer)\n",
    "\n",
    "model = tf.keras.Model(inputs=input_ids, outputs=output_layer)\n",
    "\n",
    "model.compile(optimizer='adam', loss='mse', metrics=['accuracy'])  # Change loss function\n",
    "\n",
    "early_stopping = tf .keras.callbacks.EarlyStopping(monitor='val_loss', patience=3, restore_best_weights=True)\n",
    "model.fit(X_train, y_train, epochs=1, batch_size=32, validation_split=0.2, callbacks=[early_stopping])"
   ]
  },
  {
   "cell_type": "code",
   "execution_count": null,
   "id": "79e960fa-b496-4185-97d4-d2a52c4135dc",
   "metadata": {},
   "outputs": [],
   "source": [
    "import tensorflow as tf\n",
    "from tensorflow.keras.preprocessing.sequence import pad_sequences\n",
    "from tensorflow.keras.preprocessing.text import Tokenizer\n",
    "\n",
    "def evaluate_sentence(sentence, model, tokenizer, max_len):\n",
    "    # Tokenize and pad the input sentence\n",
    "    sequence = tokenizer.texts_to_sequences([sentence])\n",
    "    padded_sequence = pad_sequences(sequence, maxlen=max_len, padding='post')\n",
    "\n",
    "    # Print for debugging\n",
    "    print(f'Sequence: {sequence}')\n",
    "    # print(f'Padded Sequence: {padded_sequence}')\n",
    "\n",
    "    # Make prediction using the trained model\n",
    "    likelihood = model.predict(padded_sequence)[0][0]\n",
    "\n",
    "    return likelihood\n",
    "\n",
    "# Example usage:\n",
    "sentence_to_evaluate = \"He don’t come here no more.\"\n",
    "result = evaluate_sentence(sentence_to_evaluate, model, tokenizer, max_len)\n",
    "if result<0.6:\n",
    "    print(\"Grammatically \\033[1m INCORRECT \\033[0m with probability: \",1- result)\n",
    "else:\n",
    "    print(\"Grammatically \\033[1m CORRECT \\033[0m with probability: \",result)\n"
   ]
  },
  {
   "cell_type": "code",
   "execution_count": null,
   "id": "e80c34f5-e2f3-4a46-b067-b8661a6c7798",
   "metadata": {},
   "outputs": [],
   "source": []
  },
  {
   "cell_type": "code",
   "execution_count": 83,
   "id": "24c77195-a9b3-4d7c-bf78-c85d874bdff2",
   "metadata": {},
   "outputs": [],
   "source": [
    "import json  \n",
    "\n",
    "model.save(\"fine_tuned_model.h5\")  # Save as HDF5\n",
    "\n",
    "# Save the tokenizer configuration\n",
    "tokenizer_config = tokenizer.to_json()\n",
    "with open('tokenizer_config.json', 'w', encoding='utf-8') as f:\n",
    "    f.write(json.dumps(tokenizer_config, ensure_ascii=False))"
   ]
  },
  {
   "cell_type": "code",
   "execution_count": 5,
   "id": "38317296-07fc-4d13-8b99-e23b63d64994",
   "metadata": {},
   "outputs": [
    {
     "name": "stdout",
     "output_type": "stream",
     "text": [
      "17/17 [==============================] - 22s 1s/step\n"
     ]
    }
   ],
   "source": [
    "# Step 7: Evaluate the performance on the provided test set\n",
    "test_data = pd.read_csv('test.csv')\n",
    "test_sequences = tokenizer.texts_to_sequences(test_data['text'])\n",
    "padded_test_sequences = pad_sequences(test_sequences, maxlen=max_len, padding='post')\n",
    "\n",
    "predictions = model.predict(padded_test_sequences)"
   ]
  },
  {
   "cell_type": "code",
   "execution_count": null,
   "id": "efe693ce-9423-4c84-a370-dcdafbd0cf97",
   "metadata": {},
   "outputs": [],
   "source": []
  },
  {
   "cell_type": "code",
   "execution_count": 11,
   "id": "77335a2b-73ad-4e28-9dac-54c532d04c2d",
   "metadata": {},
   "outputs": [
    {
     "name": "stdout",
     "output_type": "stream",
     "text": [
      "Precision: 0.6936416184971098, Recall: 0.9863013698630136\n"
     ]
    }
   ],
   "source": [
    "min_value = np.min(predictions)\n",
    "max_value = np.max(predictions)\n",
    "scaled_values = (predictions - min_value) / (max_value - min_value)\n",
    "\n",
    "binary_predictions = np.where(scaled_values > 0.5, 1, 0)\n",
    "y_true = test_data['label'].astype(int)\n",
    "\n",
    "# Calculate precision and recall\n",
    "precision = precision_score(y_true, binary_predictions)\n",
    "recall = recall_score(y_true, binary_predictions)\n",
    "\n",
    "print(f'Precision: {precision}, Recall: {recall}')"
   ]
  },
  {
   "cell_type": "code",
   "execution_count": null,
   "id": "2ef20401-2591-4cf5-94a0-c9e65e7a97fc",
   "metadata": {},
   "outputs": [],
   "source": []
  },
  {
   "cell_type": "code",
   "execution_count": 76,
   "id": "72f0ec5d-e68a-4dfd-b8dd-58d3e2957351",
   "metadata": {},
   "outputs": [
    {
     "name": "stdout",
     "output_type": "stream",
     "text": [
      "1/1 [==============================] - 0s 90ms/step\n",
      "Likelihood that the sentence is grammatically correct: 0.1065351739525795\n",
      "1/1 [==============================] - 0s 76ms/step\n",
      "Likelihood that the sentence is grammatically correct: 0.1336185485124588\n"
     ]
    }
   ],
   "source": [
    "# Step 6: Evaluate a sample sentence\n",
    "scaled_likelihood = mygrader.evaluate(\"she swims\")\n",
    "print(f'Likelihood that the sentence is grammatically correct: {scaled_likelihood}')\n",
    "\n",
    "# Step 7: Evaluate another sentence\n",
    "scaled_likelihood_new = mygrader.evaluate(\"she am swimming\")\n",
    "print(f'Likelihood that the sentence is grammatically correct: {scaled_likelihood_new}')"
   ]
  },
  {
   "cell_type": "code",
   "execution_count": 49,
   "id": "45ed13f7-e822-45e3-ac38-95b005f678eb",
   "metadata": {},
   "outputs": [],
   "source": [
    "# Step 5: Create an instance of Grader\n",
    "mygrader = Grader(model, tokenizer, max_len)"
   ]
  },
  {
   "cell_type": "code",
   "execution_count": 50,
   "id": "5af14c28-3931-427a-a63b-17acd819e33d",
   "metadata": {},
   "outputs": [
    {
     "name": "stdout",
     "output_type": "stream",
     "text": [
      "1/1 [==============================] - 0s 228ms/step\n",
      "Likelihood that the sentence is grammatically correct: 0.8868378400802612\n"
     ]
    }
   ],
   "source": [
    "# Step 6: Evaluate a sample sentence\n",
    "likelihood = mygrader.evaluate(\"she swimmed\")\n",
    "print(f'Likelihood that the sentence is grammatically correct: {likelihood}')"
   ]
  }
 ],
 "metadata": {
  "kernelspec": {
   "display_name": "Python 3 (ipykernel)",
   "language": "python",
   "name": "python3"
  },
  "language_info": {
   "codemirror_mode": {
    "name": "ipython",
    "version": 3
   },
   "file_extension": ".py",
   "mimetype": "text/x-python",
   "name": "python",
   "nbconvert_exporter": "python",
   "pygments_lexer": "ipython3",
   "version": "3.11.3"
  }
 },
 "nbformat": 4,
 "nbformat_minor": 5
}
